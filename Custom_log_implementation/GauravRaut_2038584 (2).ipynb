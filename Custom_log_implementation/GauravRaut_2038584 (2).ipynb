{
  "nbformat": 4,
  "nbformat_minor": 0,
  "metadata": {
    "kernelspec": {
      "display_name": "Python 3",
      "language": "python",
      "name": "python3"
    },
    "language_info": {
      "codemirror_mode": {
        "name": "ipython",
        "version": 3
      },
      "file_extension": ".py",
      "mimetype": "text/x-python",
      "name": "python",
      "nbconvert_exporter": "python",
      "pygments_lexer": "ipython3",
      "version": "3.8.5"
    },
    "colab": {
      "name": "GauravRaut_2038584.ipynb",
      "provenance": []
    }
  },
  "cells": [
    {
      "cell_type": "code",
      "metadata": {
        "id": "5odBQDVRA-Uc"
      },
      "source": [
        "def func_log(x):\n",
        "    n=100000\n",
        "    return n * ((x ** (1/n)) - 1)"
      ],
      "execution_count": null,
      "outputs": []
    },
    {
      "cell_type": "code",
      "metadata": {
        "id": "3m2mynFhA-Ue"
      },
      "source": [
        "def func_log_approx(x,a,n):\n",
        "    n=n\n",
        "    sum = log(a,n)\n",
        "    if x>1: return func_log_approx(x/2,a,n) - func_log_approx(0.5,a,n)\n",
        "    for i in range(1,n):\n",
        "        coeff = ((-1)**(i+1))\n",
        "        num = coeff*((x-a)**i)\n",
        "        denum = (a**i)*i\n",
        "        sum += num/denum\n",
        "    return sum"
      ],
      "execution_count": null,
      "outputs": []
    },
    {
      "cell_type": "code",
      "metadata": {
        "id": "Kvr5eehtA-Uf"
      },
      "source": [
        "def func_log_actual_approx(x,y,a,n):\n",
        "    a=a\n",
        "    n=n\n",
        "    return log_approx(x,a,n)/log_approx(y,a,n)"
      ],
      "execution_count": null,
      "outputs": []
    },
    {
      "cell_type": "code",
      "metadata": {
        "id": "8lhPP-fEA-Uf",
        "outputId": "1625bd63-c843-412f-fdf9-089fe187d00b"
      },
      "source": [
        "\n",
        "import math\n",
        "\n",
        "\n",
        "actual=math.log(8,2)\n",
        "approx=func_log_actual_approx(8,2,10,150)\n",
        "error=abs(approx-actual)\n",
        "print(\"Actual value of log:\",actual)\n",
        "print(\"Approximate value of log:\", approx)\n",
        "print(\"Error:\", error)"
      ],
      "execution_count": null,
      "outputs": [
        {
          "output_type": "stream",
          "text": [
            "Actual value of log: 3.0\n",
            "Approximate value of log: 2.9487405323999933\n",
            "Error: 0.05125946760000666\n"
          ],
          "name": "stdout"
        }
      ]
    },
    {
      "cell_type": "code",
      "metadata": {
        "id": "Hw8EWZO4A-Ug",
        "outputId": "2e55358d-0aca-40e7-eb4d-d67699f15d50"
      },
      "source": [
        ""
      ],
      "execution_count": null,
      "outputs": [
        {
          "output_type": "execute_result",
          "data": {
            "text/plain": [
              "-0.34038546518413443"
            ]
          },
          "metadata": {
            "tags": []
          },
          "execution_count": 64
        }
      ]
    },
    {
      "cell_type": "code",
      "metadata": {
        "id": "H_5-JrkMA-Ug"
      },
      "source": [
        ""
      ],
      "execution_count": null,
      "outputs": []
    }
  ]
}